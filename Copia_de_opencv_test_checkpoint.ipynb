{
  "nbformat": 4,
  "nbformat_minor": 0,
  "metadata": {
    "kernelspec": {
      "display_name": "Python 3",
      "language": "python",
      "name": "python3"
    },
    "language_info": {
      "codemirror_mode": {
        "name": "ipython",
        "version": 3
      },
      "file_extension": ".py",
      "mimetype": "text/x-python",
      "name": "python",
      "nbconvert_exporter": "python",
      "pygments_lexer": "ipython3",
      "version": "3.7.4"
    },
    "colab": {
      "name": "Copia de opencv_test-checkpoint.ipynb",
      "provenance": [],
      "collapsed_sections": [],
      "include_colab_link": true
    }
  },
  "cells": [
    {
      "cell_type": "markdown",
      "metadata": {
        "id": "view-in-github",
        "colab_type": "text"
      },
      "source": [
        "<a href=\"https://colab.research.google.com/github/JuanMartinMujicaBuj/prueba1/blob/master/Copia_de_opencv_test_checkpoint.ipynb\" target=\"_parent\"><img src=\"https://colab.research.google.com/assets/colab-badge.svg\" alt=\"Open In Colab\"/></a>"
      ]
    },
    {
      "cell_type": "markdown",
      "metadata": {
        "id": "i174koR4-ff8",
        "colab_type": "text"
      },
      "source": [
        "# Ejemplos de la libreria opencv"
      ]
    },
    {
      "cell_type": "markdown",
      "metadata": {
        "id": "MpcCC29F-ff_",
        "colab_type": "text"
      },
      "source": [
        "### Ejemplo que toma input de la cámara, calcula la escala de grises, escribe algo en pantalla y lo muestra."
      ]
    },
    {
      "cell_type": "code",
      "metadata": {
        "id": "hq_1yppp-fgB",
        "colab_type": "code",
        "colab": {}
      },
      "source": [
        "import cv2\n",
        "\n",
        "capture = cv2.VideoCapture(0) #Tomo como device de captura la camara web\n",
        "\n",
        "while (True):\n",
        "\n",
        "    ret, frame = capture.read() #Leo un frame (de esta manera lea tan rapido como pueda no respeta fps)\n",
        "    frame_h, frame_w = frame.shape[0], frame.shape[1] #IMPORTANTE: el frame es una matriz de shape (y, x, cdad canales)\n",
        "    gray = cv2.cvtColor(frame, cv2.COLOR_BGR2GRAY)  #Cambio el frame a grayscale\n",
        "    gray = cv2.putText(gray, 'Hola', (int(frame_h / 2)-100, int(frame_w / 2)), cv2.FONT_HERSHEY_COMPLEX, 1,\n",
        "                      255)  # Pongo algun texto\n",
        "\n",
        "    cv2.imshow('gris', gray) #Muestro imagen en escala de grises\n",
        "    cv2.imshow('original', frame) #Muestro imagen original\n",
        "\n",
        "\n",
        "    if cv2.waitKey(1) == 27: #Espero la tecla para salir\n",
        "        break\n",
        "\n",
        "capture.release()\n",
        "cv2.destroyAllWindows()"
      ],
      "execution_count": null,
      "outputs": []
    },
    {
      "cell_type": "markdown",
      "metadata": {
        "id": "YAJ_wf3t-fgN",
        "colab_type": "text"
      },
      "source": [
        "### Eventos de opencv"
      ]
    },
    {
      "cell_type": "code",
      "metadata": {
        "id": "-J_08hA7-fgO",
        "colab_type": "code",
        "colab": {},
        "outputId": "73de2edb-3e0b-440f-80b9-fb7213778d64"
      },
      "source": [
        "import cv2\n",
        "events = [i for i in dir(cv2) if 'EVENT' in i]\n",
        "print(events)"
      ],
      "execution_count": null,
      "outputs": [
        {
          "output_type": "stream",
          "text": [
            "['EVENT_FLAG_ALTKEY', 'EVENT_FLAG_CTRLKEY', 'EVENT_FLAG_LBUTTON', 'EVENT_FLAG_MBUTTON', 'EVENT_FLAG_RBUTTON', 'EVENT_FLAG_SHIFTKEY', 'EVENT_LBUTTONDBLCLK', 'EVENT_LBUTTONDOWN', 'EVENT_LBUTTONUP', 'EVENT_MBUTTONDBLCLK', 'EVENT_MBUTTONDOWN', 'EVENT_MBUTTONUP', 'EVENT_MOUSEHWHEEL', 'EVENT_MOUSEMOVE', 'EVENT_MOUSEWHEEL', 'EVENT_RBUTTONDBLCLK', 'EVENT_RBUTTONDOWN', 'EVENT_RBUTTONUP']\n"
          ],
          "name": "stdout"
        }
      ]
    },
    {
      "cell_type": "code",
      "metadata": {
        "id": "hMwJeaxP-fgX",
        "colab_type": "code",
        "colab": {}
      },
      "source": [
        "import numpy as np\n",
        "import cv2\n",
        "\n",
        "drawing = False\n",
        "prevx, prevy = None,None\n",
        "\n",
        "def draw_circle(event,x,y,flags,param):\n",
        "    global drawing\n",
        "    global prevx\n",
        "    global prevy\n",
        "    img = param\n",
        "    if event == cv2.EVENT_LBUTTONDOWN:\n",
        "        drawing = True\n",
        "        img = cv2.circle(img,(x,y),2,(255,255,255), -1)\n",
        "        prevx, prevy = x, y\n",
        "    elif event == cv2.EVENT_MOUSEMOVE:\n",
        "        if drawing == True:\n",
        "            img = cv2.line(img,(prevx, prevy),(x,y),(255, 255, 255), 2)\n",
        "            prevx, prevy = x, y\n",
        "    elif event == cv2.EVENT_LBUTTONUP:\n",
        "        drawing = False\n",
        "        img = cv2.line(img,(prevx, prevy),(x,y),(255, 255, 255), 2)\n",
        "        prevx, prevy = None,None\n",
        "        \n",
        "img = np.zeros((512,1024,3), np.uint8)\n",
        "cv2.namedWindow('Canvas')\n",
        "cv2.setMouseCallback('Canvas',draw_circle, img)\n",
        "while True:\n",
        "    cv2.imshow('Canvas',img)\n",
        "    if cv2.waitKey(20) & 0xFF == 27:\n",
        "        break\n",
        "cv.destroyAllWindows()"
      ],
      "execution_count": null,
      "outputs": []
    }
  ]
}